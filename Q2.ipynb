{
 "cells": [
  {
   "cell_type": "code",
   "id": "initial_id",
   "metadata": {
    "collapsed": true,
    "ExecuteTime": {
     "end_time": "2024-09-18T17:20:35.479194Z",
     "start_time": "2024-09-18T17:20:35.473672Z"
    }
   },
   "source": [
    "import numpy as np\n",
    "import pandas as pd\n",
    "import matplotlib.pyplot as plt\n",
    "%matplotlib inline\n",
    "import seaborn as sns\n",
    "from imblearn.over_sampling import RandomOverSampler\n",
    "from sklearn.metrics import classification_report, confusion_matrix, accuracy_score\n",
    "from sklearn.linear_model import LogisticRegression\n",
    "from sklearn.discriminant_analysis import LinearDiscriminantAnalysis"
   ],
   "outputs": [],
   "execution_count": 58
  },
  {
   "metadata": {
    "ExecuteTime": {
     "end_time": "2024-09-18T17:20:35.505032Z",
     "start_time": "2024-09-18T17:20:35.484233Z"
    }
   },
   "cell_type": "code",
   "source": [
    "df = pd.read_csv(\"Group 2.csv\")\n",
    "df.head()"
   ],
   "id": "cca4a6ff83040ba",
   "outputs": [
    {
     "data": {
      "text/plain": [
       "   Unnamed: 0  customerID  gender  SeniorCitizen Partner Dependents  tenure  \\\n",
       "0        6167  3154-CFSZG    Male              0     Yes        Yes      47   \n",
       "1        1527  0640-YJTPY    Male              0     Yes        Yes      72   \n",
       "2        2397  3722-WPXTK    Male              0      No         No       1   \n",
       "3        2241  2908-WGAXL  Female              0     Yes        Yes      56   \n",
       "4        5194  1902-XBTFB    Male              0      No        Yes      22   \n",
       "\n",
       "  PhoneService MultipleLines InternetService  ...     DeviceProtection  \\\n",
       "0          Yes            No     Fiber optic  ...                  Yes   \n",
       "1          Yes            No              No  ...  No internet service   \n",
       "2          Yes            No     Fiber optic  ...                   No   \n",
       "3          Yes           Yes              No  ...  No internet service   \n",
       "4          Yes            No     Fiber optic  ...                  Yes   \n",
       "\n",
       "           TechSupport          StreamingTV      StreamingMovies  \\\n",
       "0                   No                   No                  Yes   \n",
       "1  No internet service  No internet service  No internet service   \n",
       "2                   No                  Yes                  Yes   \n",
       "3  No internet service  No internet service  No internet service   \n",
       "4                   No                  Yes                   No   \n",
       "\n",
       "         Contract PaperlessBilling              PaymentMethod MonthlyCharges  \\\n",
       "0  Month-to-month               No           Electronic check          90.05   \n",
       "1        Two year               No  Bank transfer (automatic)          21.00   \n",
       "2  Month-to-month              Yes           Electronic check          88.35   \n",
       "3        Two year              Yes    Credit card (automatic)          24.95   \n",
       "4  Month-to-month              Yes           Electronic check          89.40   \n",
       "\n",
       "  TotalCharges  Churn  \n",
       "0       4137.2     No  \n",
       "1      1493.75     No  \n",
       "2        88.35    Yes  \n",
       "3       1468.9     No  \n",
       "4       2001.5    Yes  \n",
       "\n",
       "[5 rows x 22 columns]"
      ],
      "text/html": [
       "<div>\n",
       "<style scoped>\n",
       "    .dataframe tbody tr th:only-of-type {\n",
       "        vertical-align: middle;\n",
       "    }\n",
       "\n",
       "    .dataframe tbody tr th {\n",
       "        vertical-align: top;\n",
       "    }\n",
       "\n",
       "    .dataframe thead th {\n",
       "        text-align: right;\n",
       "    }\n",
       "</style>\n",
       "<table border=\"1\" class=\"dataframe\">\n",
       "  <thead>\n",
       "    <tr style=\"text-align: right;\">\n",
       "      <th></th>\n",
       "      <th>Unnamed: 0</th>\n",
       "      <th>customerID</th>\n",
       "      <th>gender</th>\n",
       "      <th>SeniorCitizen</th>\n",
       "      <th>Partner</th>\n",
       "      <th>Dependents</th>\n",
       "      <th>tenure</th>\n",
       "      <th>PhoneService</th>\n",
       "      <th>MultipleLines</th>\n",
       "      <th>InternetService</th>\n",
       "      <th>...</th>\n",
       "      <th>DeviceProtection</th>\n",
       "      <th>TechSupport</th>\n",
       "      <th>StreamingTV</th>\n",
       "      <th>StreamingMovies</th>\n",
       "      <th>Contract</th>\n",
       "      <th>PaperlessBilling</th>\n",
       "      <th>PaymentMethod</th>\n",
       "      <th>MonthlyCharges</th>\n",
       "      <th>TotalCharges</th>\n",
       "      <th>Churn</th>\n",
       "    </tr>\n",
       "  </thead>\n",
       "  <tbody>\n",
       "    <tr>\n",
       "      <th>0</th>\n",
       "      <td>6167</td>\n",
       "      <td>3154-CFSZG</td>\n",
       "      <td>Male</td>\n",
       "      <td>0</td>\n",
       "      <td>Yes</td>\n",
       "      <td>Yes</td>\n",
       "      <td>47</td>\n",
       "      <td>Yes</td>\n",
       "      <td>No</td>\n",
       "      <td>Fiber optic</td>\n",
       "      <td>...</td>\n",
       "      <td>Yes</td>\n",
       "      <td>No</td>\n",
       "      <td>No</td>\n",
       "      <td>Yes</td>\n",
       "      <td>Month-to-month</td>\n",
       "      <td>No</td>\n",
       "      <td>Electronic check</td>\n",
       "      <td>90.05</td>\n",
       "      <td>4137.2</td>\n",
       "      <td>No</td>\n",
       "    </tr>\n",
       "    <tr>\n",
       "      <th>1</th>\n",
       "      <td>1527</td>\n",
       "      <td>0640-YJTPY</td>\n",
       "      <td>Male</td>\n",
       "      <td>0</td>\n",
       "      <td>Yes</td>\n",
       "      <td>Yes</td>\n",
       "      <td>72</td>\n",
       "      <td>Yes</td>\n",
       "      <td>No</td>\n",
       "      <td>No</td>\n",
       "      <td>...</td>\n",
       "      <td>No internet service</td>\n",
       "      <td>No internet service</td>\n",
       "      <td>No internet service</td>\n",
       "      <td>No internet service</td>\n",
       "      <td>Two year</td>\n",
       "      <td>No</td>\n",
       "      <td>Bank transfer (automatic)</td>\n",
       "      <td>21.00</td>\n",
       "      <td>1493.75</td>\n",
       "      <td>No</td>\n",
       "    </tr>\n",
       "    <tr>\n",
       "      <th>2</th>\n",
       "      <td>2397</td>\n",
       "      <td>3722-WPXTK</td>\n",
       "      <td>Male</td>\n",
       "      <td>0</td>\n",
       "      <td>No</td>\n",
       "      <td>No</td>\n",
       "      <td>1</td>\n",
       "      <td>Yes</td>\n",
       "      <td>No</td>\n",
       "      <td>Fiber optic</td>\n",
       "      <td>...</td>\n",
       "      <td>No</td>\n",
       "      <td>No</td>\n",
       "      <td>Yes</td>\n",
       "      <td>Yes</td>\n",
       "      <td>Month-to-month</td>\n",
       "      <td>Yes</td>\n",
       "      <td>Electronic check</td>\n",
       "      <td>88.35</td>\n",
       "      <td>88.35</td>\n",
       "      <td>Yes</td>\n",
       "    </tr>\n",
       "    <tr>\n",
       "      <th>3</th>\n",
       "      <td>2241</td>\n",
       "      <td>2908-WGAXL</td>\n",
       "      <td>Female</td>\n",
       "      <td>0</td>\n",
       "      <td>Yes</td>\n",
       "      <td>Yes</td>\n",
       "      <td>56</td>\n",
       "      <td>Yes</td>\n",
       "      <td>Yes</td>\n",
       "      <td>No</td>\n",
       "      <td>...</td>\n",
       "      <td>No internet service</td>\n",
       "      <td>No internet service</td>\n",
       "      <td>No internet service</td>\n",
       "      <td>No internet service</td>\n",
       "      <td>Two year</td>\n",
       "      <td>Yes</td>\n",
       "      <td>Credit card (automatic)</td>\n",
       "      <td>24.95</td>\n",
       "      <td>1468.9</td>\n",
       "      <td>No</td>\n",
       "    </tr>\n",
       "    <tr>\n",
       "      <th>4</th>\n",
       "      <td>5194</td>\n",
       "      <td>1902-XBTFB</td>\n",
       "      <td>Male</td>\n",
       "      <td>0</td>\n",
       "      <td>No</td>\n",
       "      <td>Yes</td>\n",
       "      <td>22</td>\n",
       "      <td>Yes</td>\n",
       "      <td>No</td>\n",
       "      <td>Fiber optic</td>\n",
       "      <td>...</td>\n",
       "      <td>Yes</td>\n",
       "      <td>No</td>\n",
       "      <td>Yes</td>\n",
       "      <td>No</td>\n",
       "      <td>Month-to-month</td>\n",
       "      <td>Yes</td>\n",
       "      <td>Electronic check</td>\n",
       "      <td>89.40</td>\n",
       "      <td>2001.5</td>\n",
       "      <td>Yes</td>\n",
       "    </tr>\n",
       "  </tbody>\n",
       "</table>\n",
       "<p>5 rows × 22 columns</p>\n",
       "</div>"
      ]
     },
     "execution_count": 59,
     "metadata": {},
     "output_type": "execute_result"
    }
   ],
   "execution_count": 59
  },
  {
   "metadata": {},
   "cell_type": "markdown",
   "source": "",
   "id": "6ebc985152f594f3"
  },
  {
   "metadata": {
    "ExecuteTime": {
     "end_time": "2024-09-18T17:20:35.539713Z",
     "start_time": "2024-09-18T17:20:35.534988Z"
    }
   },
   "cell_type": "code",
   "source": "df['TotalCharges'].describe()",
   "id": "ec23bbdcd70d2932",
   "outputs": [
    {
     "data": {
      "text/plain": [
       "count     5001\n",
       "unique    4710\n",
       "top       20.2\n",
       "freq         9\n",
       "Name: TotalCharges, dtype: object"
      ]
     },
     "execution_count": 60,
     "metadata": {},
     "output_type": "execute_result"
    }
   ],
   "execution_count": 60
  },
  {
   "metadata": {
    "ExecuteTime": {
     "end_time": "2024-09-18T17:20:35.574075Z",
     "start_time": "2024-09-18T17:20:35.567928Z"
    }
   },
   "cell_type": "code",
   "source": [
    "# Create Customer Value Segments based on quantiles of TotalCharges\n",
    "# Convert 'TotalCharges' to numeric, coercing errors to NaN (if there are invalid strings)\n",
    "df['TotalCharges'] = pd.to_numeric(df['TotalCharges'], errors='coerce')\n",
    "\n",
    "# Optionally, handle the NaN values (e.g., remove rows with NaN in 'TotalCharges')\n",
    "df = df.dropna(subset=['TotalCharges'])\n",
    "\n",
    "# Now you can use pd.qcut to create the Customer Value Segment\n",
    "df['Customer Value Segment'] = pd.qcut(df['TotalCharges'], q=3, labels=['Low', 'Medium', 'High'])\n",
    "\n",
    "# Display the first few rows to verify\n",
    "print(df[['TotalCharges', 'Customer Value Segment']].head())"
   ],
   "id": "b6ed9c50e3afee4b",
   "outputs": [
    {
     "name": "stdout",
     "output_type": "stream",
     "text": [
      "   TotalCharges Customer Value Segment\n",
      "0       4137.20                   High\n",
      "1       1493.75                 Medium\n",
      "2         88.35                    Low\n",
      "3       1468.90                 Medium\n",
      "4       2001.50                 Medium\n"
     ]
    }
   ],
   "execution_count": 61
  },
  {
   "metadata": {
    "ExecuteTime": {
     "end_time": "2024-09-18T17:20:35.778489Z",
     "start_time": "2024-09-18T17:20:35.599656Z"
    }
   },
   "cell_type": "code",
   "source": [
    "import seaborn as sns\n",
    "import matplotlib.pyplot as plt\n",
    "\n",
    "# Visualize the distribution of TotalCharges and Customer Value Segments\n",
    "sns.histplot(df['TotalCharges'], kde=True)\n",
    "plt.title('Distribution of Total Charges')\n",
    "plt.show()\n",
    "\n",
    "sns.countplot(x='Customer Value Segment', data=df, hue='Customer Value Segment', palette='viridis', legend=False)\n",
    "\n",
    "# Add title and labels\n",
    "plt.title('Count of Customer Value Segments')\n",
    "plt.xlabel('Customer Value Segment')\n",
    "plt.ylabel('Count')\n",
    "\n",
    "plt.show()\n",
    "\n"
   ],
   "id": "ffb26ec10a4f31c0",
   "outputs": [
    {
     "data": {
      "text/plain": [
       "<Figure size 640x480 with 1 Axes>"
      ],
      "image/png": "[encoded data removed]"
     },
     "metadata": {},
     "output_type": "display_data"
    },
    {
     "data": {
      "text/plain": [
       "<Figure size 640x480 with 1 Axes>"
      ],
      "image/png": "[encoded data removed]"
     },
     "metadata": {},
     "output_type": "display_data"
    }
   ],
   "execution_count": 62
  },
  {
   "metadata": {
    "ExecuteTime": {
     "end_time": "2024-09-18T17:20:35.873507Z",
     "start_time": "2024-09-18T17:20:35.848134Z"
    }
   },
   "cell_type": "code",
   "source": [
    "from sklearn.model_selection import train_test_split\n",
    "from sklearn.preprocessing import LabelEncoder\n",
    "\n",
    "# Encode categorical variables\n",
    "label_encoder = LabelEncoder()\n",
    "df['Churn'] = label_encoder.fit_transform(df['Churn'])\n",
    "\n",
    "df.dropna(axis =0, inplace=True)\n",
    "df.isnull().sum()\n",
    "\n"
   ],
   "id": "caeb0ffb9ab09574",
   "outputs": [
    {
     "data": {
      "text/plain": [
       "Unnamed: 0                0\n",
       "customerID                0\n",
       "gender                    0\n",
       "SeniorCitizen             0\n",
       "Partner                   0\n",
       "Dependents                0\n",
       "tenure                    0\n",
       "PhoneService              0\n",
       "MultipleLines             0\n",
       "InternetService           0\n",
       "OnlineSecurity            0\n",
       "OnlineBackup              0\n",
       "DeviceProtection          0\n",
       "TechSupport               0\n",
       "StreamingTV               0\n",
       "StreamingMovies           0\n",
       "Contract                  0\n",
       "PaperlessBilling          0\n",
       "PaymentMethod             0\n",
       "MonthlyCharges            0\n",
       "TotalCharges              0\n",
       "Churn                     0\n",
       "Customer Value Segment    0\n",
       "dtype: int64"
      ]
     },
     "execution_count": 63,
     "metadata": {},
     "output_type": "execute_result"
    }
   ],
   "execution_count": 63
  },
  {
   "metadata": {
    "ExecuteTime": {
     "end_time": "2024-09-18T17:20:35.913054Z",
     "start_time": "2024-09-18T17:20:35.906012Z"
    }
   },
   "cell_type": "code",
   "source": [
    "df = df.drop([\"customerID\"], axis = 1)\n",
    "df.head()\n"
   ],
   "id": "fcac2de67409b307",
   "outputs": [
    {
     "data": {
      "text/plain": [
       "   Unnamed: 0  gender  SeniorCitizen Partner Dependents  tenure PhoneService  \\\n",
       "0        6167    Male              0     Yes        Yes      47          Yes   \n",
       "1        1527    Male              0     Yes        Yes      72          Yes   \n",
       "2        2397    Male              0      No         No       1          Yes   \n",
       "3        2241  Female              0     Yes        Yes      56          Yes   \n",
       "4        5194    Male              0      No        Yes      22          Yes   \n",
       "\n",
       "  MultipleLines InternetService       OnlineSecurity  ...  \\\n",
       "0            No     Fiber optic                  Yes  ...   \n",
       "1            No              No  No internet service  ...   \n",
       "2            No     Fiber optic                   No  ...   \n",
       "3           Yes              No  No internet service  ...   \n",
       "4            No     Fiber optic                   No  ...   \n",
       "\n",
       "           TechSupport          StreamingTV      StreamingMovies  \\\n",
       "0                   No                   No                  Yes   \n",
       "1  No internet service  No internet service  No internet service   \n",
       "2                   No                  Yes                  Yes   \n",
       "3  No internet service  No internet service  No internet service   \n",
       "4                   No                  Yes                   No   \n",
       "\n",
       "         Contract PaperlessBilling              PaymentMethod MonthlyCharges  \\\n",
       "0  Month-to-month               No           Electronic check          90.05   \n",
       "1        Two year               No  Bank transfer (automatic)          21.00   \n",
       "2  Month-to-month              Yes           Electronic check          88.35   \n",
       "3        Two year              Yes    Credit card (automatic)          24.95   \n",
       "4  Month-to-month              Yes           Electronic check          89.40   \n",
       "\n",
       "  TotalCharges  Churn  Customer Value Segment  \n",
       "0      4137.20      0                    High  \n",
       "1      1493.75      0                  Medium  \n",
       "2        88.35      1                     Low  \n",
       "3      1468.90      0                  Medium  \n",
       "4      2001.50      1                  Medium  \n",
       "\n",
       "[5 rows x 22 columns]"
      ],
      "text/html": [
       "<div>\n",
       "<style scoped>\n",
       "    .dataframe tbody tr th:only-of-type {\n",
       "        vertical-align: middle;\n",
       "    }\n",
       "\n",
       "    .dataframe tbody tr th {\n",
       "        vertical-align: top;\n",
       "    }\n",
       "\n",
       "    .dataframe thead th {\n",
       "        text-align: right;\n",
       "    }\n",
       "</style>\n",
       "<table border=\"1\" class=\"dataframe\">\n",
       "  <thead>\n",
       "    <tr style=\"text-align: right;\">\n",
       "      <th></th>\n",
       "      <th>Unnamed: 0</th>\n",
       "      <th>gender</th>\n",
       "      <th>SeniorCitizen</th>\n",
       "      <th>Partner</th>\n",
       "      <th>Dependents</th>\n",
       "      <th>tenure</th>\n",
       "      <th>PhoneService</th>\n",
       "      <th>MultipleLines</th>\n",
       "      <th>InternetService</th>\n",
       "      <th>OnlineSecurity</th>\n",
       "      <th>...</th>\n",
       "      <th>TechSupport</th>\n",
       "      <th>StreamingTV</th>\n",
       "      <th>StreamingMovies</th>\n",
       "      <th>Contract</th>\n",
       "      <th>PaperlessBilling</th>\n",
       "      <th>PaymentMethod</th>\n",
       "      <th>MonthlyCharges</th>\n",
       "      <th>TotalCharges</th>\n",
       "      <th>Churn</th>\n",
       "      <th>Customer Value Segment</th>\n",
       "    </tr>\n",
       "  </thead>\n",
       "  <tbody>\n",
       "    <tr>\n",
       "      <th>0</th>\n",
       "      <td>6167</td>\n",
       "      <td>Male</td>\n",
       "      <td>0</td>\n",
       "      <td>Yes</td>\n",
       "      <td>Yes</td>\n",
       "      <td>47</td>\n",
       "      <td>Yes</td>\n",
       "      <td>No</td>\n",
       "      <td>Fiber optic</td>\n",
       "      <td>Yes</td>\n",
       "      <td>...</td>\n",
       "      <td>No</td>\n",
       "      <td>No</td>\n",
       "      <td>Yes</td>\n",
       "      <td>Month-to-month</td>\n",
       "      <td>No</td>\n",
       "      <td>Electronic check</td>\n",
       "      <td>90.05</td>\n",
       "      <td>4137.20</td>\n",
       "      <td>0</td>\n",
       "      <td>High</td>\n",
       "    </tr>\n",
       "    <tr>\n",
       "      <th>1</th>\n",
       "      <td>1527</td>\n",
       "      <td>Male</td>\n",
       "      <td>0</td>\n",
       "      <td>Yes</td>\n",
       "      <td>Yes</td>\n",
       "      <td>72</td>\n",
       "      <td>Yes</td>\n",
       "      <td>No</td>\n",
       "      <td>No</td>\n",
       "      <td>No internet service</td>\n",
       "      <td>...</td>\n",
       "      <td>No internet service</td>\n",
       "      <td>No internet service</td>\n",
       "      <td>No internet service</td>\n",
       "      <td>Two year</td>\n",
       "      <td>No</td>\n",
       "      <td>Bank transfer (automatic)</td>\n",
       "      <td>21.00</td>\n",
       "      <td>1493.75</td>\n",
       "      <td>0</td>\n",
       "      <td>Medium</td>\n",
       "    </tr>\n",
       "    <tr>\n",
       "      <th>2</th>\n",
       "      <td>2397</td>\n",
       "      <td>Male</td>\n",
       "      <td>0</td>\n",
       "      <td>No</td>\n",
       "      <td>No</td>\n",
       "      <td>1</td>\n",
       "      <td>Yes</td>\n",
       "      <td>No</td>\n",
       "      <td>Fiber optic</td>\n",
       "      <td>No</td>\n",
       "      <td>...</td>\n",
       "      <td>No</td>\n",
       "      <td>Yes</td>\n",
       "      <td>Yes</td>\n",
       "      <td>Month-to-month</td>\n",
       "      <td>Yes</td>\n",
       "      <td>Electronic check</td>\n",
       "      <td>88.35</td>\n",
       "      <td>88.35</td>\n",
       "      <td>1</td>\n",
       "      <td>Low</td>\n",
       "    </tr>\n",
       "    <tr>\n",
       "      <th>3</th>\n",
       "      <td>2241</td>\n",
       "      <td>Female</td>\n",
       "      <td>0</td>\n",
       "      <td>Yes</td>\n",
       "      <td>Yes</td>\n",
       "      <td>56</td>\n",
       "      <td>Yes</td>\n",
       "      <td>Yes</td>\n",
       "      <td>No</td>\n",
       "      <td>No internet service</td>\n",
       "      <td>...</td>\n",
       "      <td>No internet service</td>\n",
       "      <td>No internet service</td>\n",
       "      <td>No internet service</td>\n",
       "      <td>Two year</td>\n",
       "      <td>Yes</td>\n",
       "      <td>Credit card (automatic)</td>\n",
       "      <td>24.95</td>\n",
       "      <td>1468.90</td>\n",
       "      <td>0</td>\n",
       "      <td>Medium</td>\n",
       "    </tr>\n",
       "    <tr>\n",
       "      <th>4</th>\n",
       "      <td>5194</td>\n",
       "      <td>Male</td>\n",
       "      <td>0</td>\n",
       "      <td>No</td>\n",
       "      <td>Yes</td>\n",
       "      <td>22</td>\n",
       "      <td>Yes</td>\n",
       "      <td>No</td>\n",
       "      <td>Fiber optic</td>\n",
       "      <td>No</td>\n",
       "      <td>...</td>\n",
       "      <td>No</td>\n",
       "      <td>Yes</td>\n",
       "      <td>No</td>\n",
       "      <td>Month-to-month</td>\n",
       "      <td>Yes</td>\n",
       "      <td>Electronic check</td>\n",
       "      <td>89.40</td>\n",
       "      <td>2001.50</td>\n",
       "      <td>1</td>\n",
       "      <td>Medium</td>\n",
       "    </tr>\n",
       "  </tbody>\n",
       "</table>\n",
       "<p>5 rows × 22 columns</p>\n",
       "</div>"
      ]
     },
     "execution_count": 64,
     "metadata": {},
     "output_type": "execute_result"
    }
   ],
   "execution_count": 64
  },
  {
   "metadata": {
    "ExecuteTime": {
     "end_time": "2024-09-18T17:20:35.950962Z",
     "start_time": "2024-09-18T17:20:35.939206Z"
    }
   },
   "cell_type": "code",
   "source": [
    "\n",
    "dummies=([\"gender\",\"SeniorCitizen\",\"Partner\",\"Dependents\",\"PhoneService\",\"MultipleLines\",\"InternetService\",\n",
    "          \"OnlineSecurity\",\"OnlineBackup\",\"DeviceProtection\",\"TechSupport\",\"StreamingTV\",\"StreamingMovies\",\n",
    "          \"Contract\",\"PaperlessBilling\",\"PaymentMethod\"])\n",
    "\n",
    "# One Hot Encoding \n",
    "df = pd.get_dummies(df, columns=dummies, drop_first= True )\n",
    "df.head()\n",
    "\n",
    "X = df.drop(['Customer Value Segment', 'TotalCharges'], axis=1)  # Features\n",
    "y = df['Customer Value Segment']  # Target variable (Low, Medium, High)\n",
    "\n",
    "# Train-Test Split\n",
    "X_train, X_test, y_train, y_test = train_test_split(X, y, stratify=y, random_state=42)\n"
   ],
   "id": "d8f8f10b20bedc19",
   "outputs": [],
   "execution_count": 65
  },
  {
   "metadata": {
    "ExecuteTime": {
     "end_time": "2024-09-18T17:20:36.018550Z",
     "start_time": "2024-09-18T17:20:35.977879Z"
    }
   },
   "cell_type": "code",
   "source": [
    "from sklearn.discriminant_analysis import LinearDiscriminantAnalysis\n",
    "from sklearn.metrics import classification_report, confusion_matrix, accuracy_score\n",
    "\n",
    "lda=LinearDiscriminantAnalysis()\n",
    "lda.fit(X_train,y_train )\n",
    "y_predict=lda.predict(X_test)\n",
    "print(classification_report(y_test,y_predict))\n"
   ],
   "id": "58a67ffa03c01eda",
   "outputs": [
    {
     "name": "stdout",
     "output_type": "stream",
     "text": [
      "              precision    recall  f1-score   support\n",
      "\n",
      "        High       0.97      0.90      0.94       417\n",
      "         Low       0.93      0.99      0.96       416\n",
      "      Medium       0.89      0.90      0.89       416\n",
      "\n",
      "    accuracy                           0.93      1249\n",
      "   macro avg       0.93      0.93      0.93      1249\n",
      "weighted avg       0.93      0.93      0.93      1249\n",
      "\n"
     ]
    }
   ],
   "execution_count": 66
  },
  {
   "metadata": {
    "ExecuteTime": {
     "end_time": "2024-09-18T17:22:09.883468Z",
     "start_time": "2024-09-18T17:22:09.802905Z"
    }
   },
   "cell_type": "code",
   "source": [
    "# Group customers by the value segment and calculate the mean of numeric columns\n",
    "profile = df.groupby('Customer Value Segment').mean()\n",
    "print(profile)\n",
    "\n",
    "# Visualize the differences in the average MonthlyCharges between segments\n",
    "sns.boxplot(x='Customer Value Segment', y='MonthlyCharges', data=df)\n",
    "plt.title('Monthly Charges by Customer Value Segment')\n",
    "plt.show()"
   ],
   "id": "76ee3f34228c45f2",
   "outputs": [
    {
     "name": "stdout",
     "output_type": "stream",
     "text": [
      "                         Unnamed: 0     tenure  MonthlyCharges  TotalCharges  \\\n",
      "Customer Value Segment                                                         \n",
      "Low                     3457.972973   6.877477       47.878529    245.769399   \n",
      "Medium                  3550.438702  33.539663       57.267668   1511.349249   \n",
      "High                    3527.218619  57.091291       89.776336   5111.953123   \n",
      "\n",
      "                           Churn  gender_Male  SeniorCitizen_1  Partner_Yes  \\\n",
      "Customer Value Segment                                                        \n",
      "Low                     0.399399     0.503904         0.125526     0.281682   \n",
      "Medium                  0.230168     0.507212         0.147837     0.500000   \n",
      "High                    0.156156     0.501502         0.202402     0.682282   \n",
      "\n",
      "                        Dependents_Yes  PhoneService_Yes  ...  \\\n",
      "Customer Value Segment                                    ...   \n",
      "Low                           0.240841          0.893093  ...   \n",
      "Medium                        0.325120          0.882812  ...   \n",
      "High                          0.338138          0.941742  ...   \n",
      "\n",
      "                        StreamingTV_No internet service  StreamingTV_Yes  \\\n",
      "Customer Value Segment                                                     \n",
      "Low                                            0.362162         0.157357   \n",
      "Medium                                         0.286058         0.287861   \n",
      "High                                           0.000000         0.702703   \n",
      "\n",
      "                        StreamingMovies_No internet service  \\\n",
      "Customer Value Segment                                        \n",
      "Low                                                0.362162   \n",
      "Medium                                             0.286058   \n",
      "High                                               0.000000   \n",
      "\n",
      "                        StreamingMovies_Yes  Contract_One year  \\\n",
      "Customer Value Segment                                           \n",
      "Low                                0.153153           0.105706   \n",
      "Medium                             0.295072           0.215745   \n",
      "High                               0.706306           0.303904   \n",
      "\n",
      "                        Contract_Two year  PaperlessBilling_Yes  \\\n",
      "Customer Value Segment                                            \n",
      "Low                              0.066066              0.524925   \n",
      "Medium                           0.254207              0.559495   \n",
      "High                             0.412012              0.692492   \n",
      "\n",
      "                        PaymentMethod_Credit card (automatic)  \\\n",
      "Customer Value Segment                                          \n",
      "Low                                                  0.121922   \n",
      "Medium                                               0.236178   \n",
      "High                                                 0.305105   \n",
      "\n",
      "                        PaymentMethod_Electronic check  \\\n",
      "Customer Value Segment                                   \n",
      "Low                                           0.371772   \n",
      "Medium                                        0.317308   \n",
      "High                                          0.309309   \n",
      "\n",
      "                        PaymentMethod_Mailed check  \n",
      "Customer Value Segment                              \n",
      "Low                                       0.398198  \n",
      "Medium                                    0.213942  \n",
      "High                                      0.079279  \n",
      "\n",
      "[3 rows x 32 columns]\n"
     ]
    },
    {
     "name": "stderr",
     "output_type": "stream",
     "text": [
      "/var/folders/ds/8_8nz28n0x977cfp_3pkz05m0000gn/T/ipykernel_12908/3743402675.py:2: FutureWarning: The default of observed=False is deprecated and will be changed to True in a future version of pandas. Pass observed=False to retain current behavior or observed=True to adopt the future default and silence this warning.\n",
      "  profile = df.groupby('Customer Value Segment').mean()\n"
     ]
    },
    {
     "data": {
      "text/plain": [
       "<Figure size 640x480 with 1 Axes>"
      ],
      "image/png": "[encoded data removed]"
     },
     "metadata": {},
     "output_type": "display_data"
    }
   ],
   "execution_count": 67
  },
  {
   "metadata": {
    "ExecuteTime": {
     "end_time": "2024-09-18T17:26:11.701429Z",
     "start_time": "2024-09-18T17:26:11.569316Z"
    }
   },
   "cell_type": "code",
   "source": [
    "df['CLV'] = df['MonthlyCharges'] * df['tenure']\n",
    "sns.histplot(df['CLV'], kde=True)\n",
    "plt.title('Distribution of Customer Lifetime Value')\n",
    "plt.show()"
   ],
   "id": "ff5b0ea8ee79152c",
   "outputs": [
    {
     "data": {
      "text/plain": [
       "<Figure size 640x480 with 1 Axes>"
      ],
      "image/png": "[encoded data removed]"
     },
     "metadata": {},
     "output_type": "display_data"
    }
   ],
   "execution_count": 68
  },
  {
   "metadata": {
    "ExecuteTime": {
     "end_time": "2024-09-18T17:28:36.459478Z",
     "start_time": "2024-09-18T17:28:36.454472Z"
    }
   },
   "cell_type": "code",
   "source": "print(df.columns)\n",
   "id": "db8544c0320b707f",
   "outputs": [
    {
     "name": "stdout",
     "output_type": "stream",
     "text": [
      "Index(['Unnamed: 0', 'tenure', 'MonthlyCharges', 'TotalCharges', 'Churn',\n",
      "       'Customer Value Segment', 'gender_Male', 'SeniorCitizen_1',\n",
      "       'Partner_Yes', 'Dependents_Yes', 'PhoneService_Yes',\n",
      "       'MultipleLines_No phone service', 'MultipleLines_Yes',\n",
      "       'InternetService_Fiber optic', 'InternetService_No',\n",
      "       'OnlineSecurity_No internet service', 'OnlineSecurity_Yes',\n",
      "       'OnlineBackup_No internet service', 'OnlineBackup_Yes',\n",
      "       'DeviceProtection_No internet service', 'DeviceProtection_Yes',\n",
      "       'TechSupport_No internet service', 'TechSupport_Yes',\n",
      "       'StreamingTV_No internet service', 'StreamingTV_Yes',\n",
      "       'StreamingMovies_No internet service', 'StreamingMovies_Yes',\n",
      "       'Contract_One year', 'Contract_Two year', 'PaperlessBilling_Yes',\n",
      "       'PaymentMethod_Credit card (automatic)',\n",
      "       'PaymentMethod_Electronic check', 'PaymentMethod_Mailed check', 'CLV',\n",
      "       'Recency'],\n",
      "      dtype='object')\n"
     ]
    }
   ],
   "execution_count": 70
  },
  {
   "metadata": {
    "ExecuteTime": {
     "end_time": "2024-09-18T17:29:17.627515Z",
     "start_time": "2024-09-18T17:29:17.597686Z"
    }
   },
   "cell_type": "code",
   "source": "",
   "id": "401fc1eea9c2b9ff",
   "outputs": [
    {
     "ename": "KeyError",
     "evalue": "\"['MultipleLines', 'OnlineSecurity_No', 'TechSupport_No'] not in index\"",
     "output_type": "error",
     "traceback": [
      "\u001B[0;31m---------------------------------------------------------------------------\u001B[0m",
      "\u001B[0;31mKeyError\u001B[0m                                  Traceback (most recent call last)",
      "Cell \u001B[0;32mIn[71], line 2\u001B[0m\n\u001B[1;32m      1\u001B[0m df[\u001B[38;5;124m'\u001B[39m\u001B[38;5;124mRecency\u001B[39m\u001B[38;5;124m'\u001B[39m] \u001B[38;5;241m=\u001B[39m df[\u001B[38;5;124m'\u001B[39m\u001B[38;5;124mtenure\u001B[39m\u001B[38;5;124m'\u001B[39m]  \u001B[38;5;66;03m# Assume tenure as recency\u001B[39;00m\n\u001B[0;32m----> 2\u001B[0m df[\u001B[38;5;124m'\u001B[39m\u001B[38;5;124mFrequency\u001B[39m\u001B[38;5;124m'\u001B[39m] \u001B[38;5;241m=\u001B[39m df[[\u001B[38;5;124m'\u001B[39m\u001B[38;5;124mMultipleLines\u001B[39m\u001B[38;5;124m'\u001B[39m, \u001B[38;5;124m'\u001B[39m\u001B[38;5;124mOnlineSecurity_No\u001B[39m\u001B[38;5;124m'\u001B[39m, \u001B[38;5;124m'\u001B[39m\u001B[38;5;124mTechSupport_No\u001B[39m\u001B[38;5;124m'\u001B[39m,\u001B[38;5;124m\"\u001B[39m\u001B[38;5;124mTechSupport_Yes\u001B[39m\u001B[38;5;124m\"\u001B[39m]]\u001B[38;5;241m.\u001B[39msum(axis\u001B[38;5;241m=\u001B[39m\u001B[38;5;241m1\u001B[39m)\n\u001B[1;32m      3\u001B[0m df[\u001B[38;5;124m'\u001B[39m\u001B[38;5;124mMonetary\u001B[39m\u001B[38;5;124m'\u001B[39m] \u001B[38;5;241m=\u001B[39m df[\u001B[38;5;124m'\u001B[39m\u001B[38;5;124mTotalCharges\u001B[39m\u001B[38;5;124m'\u001B[39m]\n\u001B[1;32m      5\u001B[0m \u001B[38;5;66;03m# Create RFM segments\u001B[39;00m\n",
      "File \u001B[0;32m~/miniconda3/lib/python3.12/site-packages/pandas/core/frame.py:4108\u001B[0m, in \u001B[0;36mDataFrame.__getitem__\u001B[0;34m(self, key)\u001B[0m\n\u001B[1;32m   4106\u001B[0m     \u001B[38;5;28;01mif\u001B[39;00m is_iterator(key):\n\u001B[1;32m   4107\u001B[0m         key \u001B[38;5;241m=\u001B[39m \u001B[38;5;28mlist\u001B[39m(key)\n\u001B[0;32m-> 4108\u001B[0m     indexer \u001B[38;5;241m=\u001B[39m \u001B[38;5;28mself\u001B[39m\u001B[38;5;241m.\u001B[39mcolumns\u001B[38;5;241m.\u001B[39m_get_indexer_strict(key, \u001B[38;5;124m\"\u001B[39m\u001B[38;5;124mcolumns\u001B[39m\u001B[38;5;124m\"\u001B[39m)[\u001B[38;5;241m1\u001B[39m]\n\u001B[1;32m   4110\u001B[0m \u001B[38;5;66;03m# take() does not accept boolean indexers\u001B[39;00m\n\u001B[1;32m   4111\u001B[0m \u001B[38;5;28;01mif\u001B[39;00m \u001B[38;5;28mgetattr\u001B[39m(indexer, \u001B[38;5;124m\"\u001B[39m\u001B[38;5;124mdtype\u001B[39m\u001B[38;5;124m\"\u001B[39m, \u001B[38;5;28;01mNone\u001B[39;00m) \u001B[38;5;241m==\u001B[39m \u001B[38;5;28mbool\u001B[39m:\n",
      "File \u001B[0;32m~/miniconda3/lib/python3.12/site-packages/pandas/core/indexes/base.py:6200\u001B[0m, in \u001B[0;36mIndex._get_indexer_strict\u001B[0;34m(self, key, axis_name)\u001B[0m\n\u001B[1;32m   6197\u001B[0m \u001B[38;5;28;01melse\u001B[39;00m:\n\u001B[1;32m   6198\u001B[0m     keyarr, indexer, new_indexer \u001B[38;5;241m=\u001B[39m \u001B[38;5;28mself\u001B[39m\u001B[38;5;241m.\u001B[39m_reindex_non_unique(keyarr)\n\u001B[0;32m-> 6200\u001B[0m \u001B[38;5;28mself\u001B[39m\u001B[38;5;241m.\u001B[39m_raise_if_missing(keyarr, indexer, axis_name)\n\u001B[1;32m   6202\u001B[0m keyarr \u001B[38;5;241m=\u001B[39m \u001B[38;5;28mself\u001B[39m\u001B[38;5;241m.\u001B[39mtake(indexer)\n\u001B[1;32m   6203\u001B[0m \u001B[38;5;28;01mif\u001B[39;00m \u001B[38;5;28misinstance\u001B[39m(key, Index):\n\u001B[1;32m   6204\u001B[0m     \u001B[38;5;66;03m# GH 42790 - Preserve name from an Index\u001B[39;00m\n",
      "File \u001B[0;32m~/miniconda3/lib/python3.12/site-packages/pandas/core/indexes/base.py:6252\u001B[0m, in \u001B[0;36mIndex._raise_if_missing\u001B[0;34m(self, key, indexer, axis_name)\u001B[0m\n\u001B[1;32m   6249\u001B[0m     \u001B[38;5;28;01mraise\u001B[39;00m \u001B[38;5;167;01mKeyError\u001B[39;00m(\u001B[38;5;124mf\u001B[39m\u001B[38;5;124m\"\u001B[39m\u001B[38;5;124mNone of [\u001B[39m\u001B[38;5;132;01m{\u001B[39;00mkey\u001B[38;5;132;01m}\u001B[39;00m\u001B[38;5;124m] are in the [\u001B[39m\u001B[38;5;132;01m{\u001B[39;00maxis_name\u001B[38;5;132;01m}\u001B[39;00m\u001B[38;5;124m]\u001B[39m\u001B[38;5;124m\"\u001B[39m)\n\u001B[1;32m   6251\u001B[0m not_found \u001B[38;5;241m=\u001B[39m \u001B[38;5;28mlist\u001B[39m(ensure_index(key)[missing_mask\u001B[38;5;241m.\u001B[39mnonzero()[\u001B[38;5;241m0\u001B[39m]]\u001B[38;5;241m.\u001B[39munique())\n\u001B[0;32m-> 6252\u001B[0m \u001B[38;5;28;01mraise\u001B[39;00m \u001B[38;5;167;01mKeyError\u001B[39;00m(\u001B[38;5;124mf\u001B[39m\u001B[38;5;124m\"\u001B[39m\u001B[38;5;132;01m{\u001B[39;00mnot_found\u001B[38;5;132;01m}\u001B[39;00m\u001B[38;5;124m not in index\u001B[39m\u001B[38;5;124m\"\u001B[39m)\n",
      "\u001B[0;31mKeyError\u001B[0m: \"['MultipleLines', 'OnlineSecurity_No', 'TechSupport_No'] not in index\""
     ]
    }
   ],
   "execution_count": 71
  },
  {
   "metadata": {
    "ExecuteTime": {
     "end_time": "2024-09-18T17:36:02.218916Z",
     "start_time": "2024-09-18T17:36:02.089445Z"
    }
   },
   "cell_type": "code",
   "source": [
    "import pandas as pd\n",
    "import seaborn as sns\n",
    "import matplotlib.pyplot as plt\n",
    "\n",
    "# Sample DataFrame creation (Replace with your actual data)\n",
    "# df = pd.read_csv('your_data.csv')\n",
    "\n",
    "# Assuming df has columns 'TotalCharges' and 'CustomerChurn'\n",
    "# Define customer profiles based on 'TotalCharges'\n",
    "bins = [0, 1000, 5000, float('inf')]\n",
    "labels = ['Low', 'Medium', 'High']\n",
    "#df['Profile'] = pd.cut(df['Customer Value Segment'], bins=bins, labels=labels, right=False)\n",
    "\n",
    "# Group by profile and churn status to calculate the average total charges\n",
    "\n",
    "# Plot using seaborn\n",
    "plt.figure(figsize=(12, 8))\n",
    "sns.barplot(data=df, x='Customer Value Segment', y='TotalCharges', hue='Churn', palette='viridis')\n",
    "\n",
    "plt.title('Average Total Charges by Customer Profile and Churn Status')\n",
    "plt.xlabel('Customer Profile')\n",
    "plt.ylabel('Average Total Charges')\n",
    "plt.legend(title='Customer Churn')\n",
    "plt.show()"
   ],
   "id": "c6ae6806ae662dcd",
   "outputs": [
    {
     "data": {
      "text/plain": [
       "<Figure size 1200x800 with 0 Axes>"
      ]
     },
     "metadata": {},
     "output_type": "display_data"
    },
    {
     "data": {
      "text/plain": [
       "<Figure size 1200x800 with 1 Axes>"
      ],
      "image/png": "[encoded data removed]"
     },
     "metadata": {},
     "output_type": "display_data"
    }
   ],
   "execution_count": 80
  },
  {
   "metadata": {},
   "cell_type": "code",
   "outputs": [],
   "execution_count": null,
   "source": "",
   "id": "e3f064a61108f16c"
  },
  {
   "metadata": {
    "ExecuteTime": {
     "end_time": "2024-09-18T17:53:28.855095Z",
     "start_time": "2024-09-18T17:53:28.847432Z"
    }
   },
   "cell_type": "code",
   "source": [
    "a= np.array(y_test)\n",
    "predicted = np.array(lda.predict(X_test))\n",
    "df_com=pd.DataFrame({\"Original\":a, \"Predicted\": predicted}, index= range(len(a)))\n",
    "df_com.head(500)"
   ],
   "id": "b2655868bfff513a",
   "outputs": [
    {
     "data": {
      "text/plain": [
       "    Original Predicted\n",
       "0     Medium    Medium\n",
       "1     Medium    Medium\n",
       "2     Medium       Low\n",
       "3        Low       Low\n",
       "4       High      High\n",
       "..       ...       ...\n",
       "495   Medium    Medium\n",
       "496     High      High\n",
       "497   Medium    Medium\n",
       "498     High      High\n",
       "499      Low       Low\n",
       "\n",
       "[500 rows x 2 columns]"
      ],
      "text/html": [
       "<div>\n",
       "<style scoped>\n",
       "    .dataframe tbody tr th:only-of-type {\n",
       "        vertical-align: middle;\n",
       "    }\n",
       "\n",
       "    .dataframe tbody tr th {\n",
       "        vertical-align: top;\n",
       "    }\n",
       "\n",
       "    .dataframe thead th {\n",
       "        text-align: right;\n",
       "    }\n",
       "</style>\n",
       "<table border=\"1\" class=\"dataframe\">\n",
       "  <thead>\n",
       "    <tr style=\"text-align: right;\">\n",
       "      <th></th>\n",
       "      <th>Original</th>\n",
       "      <th>Predicted</th>\n",
       "    </tr>\n",
       "  </thead>\n",
       "  <tbody>\n",
       "    <tr>\n",
       "      <th>0</th>\n",
       "      <td>Medium</td>\n",
       "      <td>Medium</td>\n",
       "    </tr>\n",
       "    <tr>\n",
       "      <th>1</th>\n",
       "      <td>Medium</td>\n",
       "      <td>Medium</td>\n",
       "    </tr>\n",
       "    <tr>\n",
       "      <th>2</th>\n",
       "      <td>Medium</td>\n",
       "      <td>Low</td>\n",
       "    </tr>\n",
       "    <tr>\n",
       "      <th>3</th>\n",
       "      <td>Low</td>\n",
       "      <td>Low</td>\n",
       "    </tr>\n",
       "    <tr>\n",
       "      <th>4</th>\n",
       "      <td>High</td>\n",
       "      <td>High</td>\n",
       "    </tr>\n",
       "    <tr>\n",
       "      <th>...</th>\n",
       "      <td>...</td>\n",
       "      <td>...</td>\n",
       "    </tr>\n",
       "    <tr>\n",
       "      <th>495</th>\n",
       "      <td>Medium</td>\n",
       "      <td>Medium</td>\n",
       "    </tr>\n",
       "    <tr>\n",
       "      <th>496</th>\n",
       "      <td>High</td>\n",
       "      <td>High</td>\n",
       "    </tr>\n",
       "    <tr>\n",
       "      <th>497</th>\n",
       "      <td>Medium</td>\n",
       "      <td>Medium</td>\n",
       "    </tr>\n",
       "    <tr>\n",
       "      <th>498</th>\n",
       "      <td>High</td>\n",
       "      <td>High</td>\n",
       "    </tr>\n",
       "    <tr>\n",
       "      <th>499</th>\n",
       "      <td>Low</td>\n",
       "      <td>Low</td>\n",
       "    </tr>\n",
       "  </tbody>\n",
       "</table>\n",
       "<p>500 rows × 2 columns</p>\n",
       "</div>"
      ]
     },
     "execution_count": 83,
     "metadata": {},
     "output_type": "execute_result"
    }
   ],
   "execution_count": 83
  }
 ],
 "metadata": {
  "kernelspec": {
   "display_name": "Python 3",
   "language": "python",
   "name": "python3"
  },
  "language_info": {
   "codemirror_mode": {
    "name": "ipython",
    "version": 2
   },
   "file_extension": ".py",
   "mimetype": "text/x-python",
   "name": "python",
   "nbconvert_exporter": "python",
   "pygments_lexer": "ipython2",
   "version": "2.7.6"
  }
 },
 "nbformat": 4,
 "nbformat_minor": 5
}
